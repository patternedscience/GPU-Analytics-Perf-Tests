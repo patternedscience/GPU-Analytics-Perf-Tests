{
 "cells": [
  {
   "cell_type": "markdown",
   "metadata": {},
   "source": [
    "## cuDF perf tests\n",
    "### Loading financial time-series (per-minute ETFs) data from CSV files into a cuDF and running the queries"
   ]
  },
  {
   "cell_type": "code",
   "execution_count": 1,
   "metadata": {},
   "outputs": [],
   "source": [
    "data_path = '/workspace/data/datasets/unianalytica/group/analytics-perf-tests/symbols/'"
   ]
  },
  {
   "cell_type": "code",
   "execution_count": 2,
   "metadata": {},
   "outputs": [],
   "source": [
    "import sys\n",
    "import os\n",
    "import csv\n",
    "import pandas as pd\n",
    "import numpy as np\n",
    "import cudf\n",
    "from pymapd import connect\n",
    "import pyarrow as pa\n",
    "import pandas as pd\n",
    "from datetime import datetime\n",
    "import pytz\n",
    "import time"
   ]
  },
  {
   "cell_type": "markdown",
   "metadata": {},
   "source": [
    "### 1.Load up all files to one cuDF DataFrame"
   ]
  },
  {
   "cell_type": "markdown",
   "metadata": {},
   "source": [
    "#### Reading the CSV files into a Pandas DF:"
   ]
  },
  {
   "cell_type": "code",
   "execution_count": 3,
   "metadata": {},
   "outputs": [
    {
     "name": "stdout",
     "output_type": "stream",
     "text": [
      "Finished reading; now concatenating the DFs...\n",
      "Built a Pandas DF of 50470570 records.\n"
     ]
    },
    {
     "data": {
      "text/html": [
       "<div>\n",
       "<style scoped>\n",
       "    .dataframe tbody tr th:only-of-type {\n",
       "        vertical-align: middle;\n",
       "    }\n",
       "\n",
       "    .dataframe tbody tr th {\n",
       "        vertical-align: top;\n",
       "    }\n",
       "\n",
       "    .dataframe thead th {\n",
       "        text-align: right;\n",
       "    }\n",
       "</style>\n",
       "<table border=\"1\" class=\"dataframe\">\n",
       "  <thead>\n",
       "    <tr style=\"text-align: right;\">\n",
       "      <th></th>\n",
       "      <th>symbol_record_id</th>\n",
       "      <th>symbol</th>\n",
       "      <th>datetime</th>\n",
       "      <th>open</th>\n",
       "      <th>high</th>\n",
       "      <th>low</th>\n",
       "      <th>close</th>\n",
       "      <th>volume</th>\n",
       "      <th>split_factor</th>\n",
       "      <th>earnings</th>\n",
       "      <th>dividends</th>\n",
       "    </tr>\n",
       "  </thead>\n",
       "  <tbody>\n",
       "    <tr>\n",
       "      <th>0</th>\n",
       "      <td>0</td>\n",
       "      <td>aaxj</td>\n",
       "      <td>2008-08-15 12:44:00</td>\n",
       "      <td>43.07</td>\n",
       "      <td>43.07</td>\n",
       "      <td>43.07</td>\n",
       "      <td>43.07</td>\n",
       "      <td>232.759</td>\n",
       "      <td>1.0</td>\n",
       "      <td>0.0</td>\n",
       "      <td>0.0</td>\n",
       "    </tr>\n",
       "    <tr>\n",
       "      <th>1</th>\n",
       "      <td>1</td>\n",
       "      <td>aaxj</td>\n",
       "      <td>2008-08-15 16:00:00</td>\n",
       "      <td>43.07</td>\n",
       "      <td>43.07</td>\n",
       "      <td>43.07</td>\n",
       "      <td>43.07</td>\n",
       "      <td>116.379</td>\n",
       "      <td>1.0</td>\n",
       "      <td>0.0</td>\n",
       "      <td>0.0</td>\n",
       "    </tr>\n",
       "    <tr>\n",
       "      <th>2</th>\n",
       "      <td>2</td>\n",
       "      <td>aaxj</td>\n",
       "      <td>2008-08-18 09:28:00</td>\n",
       "      <td>42.63</td>\n",
       "      <td>42.75</td>\n",
       "      <td>42.63</td>\n",
       "      <td>42.75</td>\n",
       "      <td>10143.600</td>\n",
       "      <td>1.0</td>\n",
       "      <td>0.0</td>\n",
       "      <td>0.0</td>\n",
       "    </tr>\n",
       "    <tr>\n",
       "      <th>3</th>\n",
       "      <td>3</td>\n",
       "      <td>aaxj</td>\n",
       "      <td>2008-08-18 09:30:00</td>\n",
       "      <td>42.77</td>\n",
       "      <td>42.77</td>\n",
       "      <td>42.77</td>\n",
       "      <td>42.77</td>\n",
       "      <td>24439.700</td>\n",
       "      <td>1.0</td>\n",
       "      <td>0.0</td>\n",
       "      <td>0.0</td>\n",
       "    </tr>\n",
       "    <tr>\n",
       "      <th>4</th>\n",
       "      <td>4</td>\n",
       "      <td>aaxj</td>\n",
       "      <td>2008-08-18 10:07:00</td>\n",
       "      <td>42.53</td>\n",
       "      <td>42.53</td>\n",
       "      <td>42.53</td>\n",
       "      <td>42.53</td>\n",
       "      <td>2327.590</td>\n",
       "      <td>1.0</td>\n",
       "      <td>0.0</td>\n",
       "      <td>0.0</td>\n",
       "    </tr>\n",
       "  </tbody>\n",
       "</table>\n",
       "</div>"
      ],
      "text/plain": [
       "   symbol_record_id symbol            datetime   open   high    low  close  \\\n",
       "0                 0   aaxj 2008-08-15 12:44:00  43.07  43.07  43.07  43.07   \n",
       "1                 1   aaxj 2008-08-15 16:00:00  43.07  43.07  43.07  43.07   \n",
       "2                 2   aaxj 2008-08-18 09:28:00  42.63  42.75  42.63  42.75   \n",
       "3                 3   aaxj 2008-08-18 09:30:00  42.77  42.77  42.77  42.77   \n",
       "4                 4   aaxj 2008-08-18 10:07:00  42.53  42.53  42.53  42.53   \n",
       "\n",
       "      volume  split_factor  earnings  dividends  \n",
       "0    232.759           1.0       0.0        0.0  \n",
       "1    116.379           1.0       0.0        0.0  \n",
       "2  10143.600           1.0       0.0        0.0  \n",
       "3  24439.700           1.0       0.0        0.0  \n",
       "4   2327.590           1.0       0.0        0.0  "
      ]
     },
     "execution_count": 3,
     "metadata": {},
     "output_type": "execute_result"
    }
   ],
   "source": [
    "symbol_dfs_list = []\n",
    "records_count = 0\n",
    "symbols_files = sorted(os.listdir(data_path))\n",
    "for ix in range(len(symbols_files)):\n",
    "    current_symbol_df = pd.read_csv(data_path + symbols_files[ix], parse_dates=[2], infer_datetime_format=True,\n",
    "                                    names=['symbol_record_id', 'symbol', 'datetime', 'open', 'high', 'low', 'close', 'volume', 'split_factor', 'earnings', 'dividends'])\n",
    "    records_count = records_count + len(current_symbol_df)\n",
    "    symbol_dfs_list.append(current_symbol_df)\n",
    "\n",
    "print('Finished reading; now concatenating the DFs...')\n",
    "symbols_pandas_df = pd.concat(symbol_dfs_list)\n",
    "symbols_pandas_df.index = np.arange(records_count)\n",
    "del(symbol_dfs_list)\n",
    "print('Built a Pandas DF of {} records.'.format(records_count))\n",
    "symbols_pandas_df.head()"
   ]
  },
  {
   "cell_type": "markdown",
   "metadata": {},
   "source": [
    "#### Building a cuDF from Pandas DF:\n",
    "Replacing the `symbol` column here with `symbol_id`, as cuDF still cannot handle strings."
   ]
  },
  {
   "cell_type": "code",
   "execution_count": 4,
   "metadata": {},
   "outputs": [
    {
     "name": "stdout",
     "output_type": "stream",
     "text": [
      "['aaxj', 'acwi', 'agg', 'agq', 'bal', 'bik', 'biv', 'bkf', 'bnd', 'brf', 'bsv', 'bwx', 'csj', 'dag', 'dba', 'dbb', 'dbc', 'dbe', 'dbo', 'ddm', 'dem', 'dgaz', 'dgp', 'dgs', 'dia', 'dig', 'djp', 'dog', 'drn', 'drv', 'dto', 'dug', 'dust', 'dvy', 'dxd', 'dzz', 'ech', 'edc', 'edz', 'eeb', 'eem', 'eev', 'efa', 'emb', 'eny', 'epi', 'epp', 'epu', 'erx', 'ery', 'eum', 'euo', 'ewa', 'ewc', 'ewd', 'ewg', 'ewh', 'ewj', 'ewl', 'ewm', 'ewp', 'ews', 'ewt']\n"
     ]
    }
   ],
   "source": [
    "symbols_list = sorted(pd.unique(symbols_pandas_df.symbol))\n",
    "print(symbols_list)"
   ]
  },
  {
   "cell_type": "code",
   "execution_count": 5,
   "metadata": {},
   "outputs": [
    {
     "data": {
      "text/html": [
       "<div>\n",
       "<style scoped>\n",
       "    .dataframe tbody tr th:only-of-type {\n",
       "        vertical-align: middle;\n",
       "    }\n",
       "\n",
       "    .dataframe tbody tr th {\n",
       "        vertical-align: top;\n",
       "    }\n",
       "\n",
       "    .dataframe thead th {\n",
       "        text-align: right;\n",
       "    }\n",
       "</style>\n",
       "<table border=\"1\" class=\"dataframe\">\n",
       "  <thead>\n",
       "    <tr style=\"text-align: right;\">\n",
       "      <th></th>\n",
       "      <th>symbol_id</th>\n",
       "      <th>symbol_record_id</th>\n",
       "      <th>datetime</th>\n",
       "      <th>open</th>\n",
       "      <th>high</th>\n",
       "      <th>low</th>\n",
       "      <th>close</th>\n",
       "      <th>volume</th>\n",
       "      <th>split_factor</th>\n",
       "      <th>earnings</th>\n",
       "      <th>dividends</th>\n",
       "    </tr>\n",
       "  </thead>\n",
       "  <tbody>\n",
       "    <tr>\n",
       "      <th>0</th>\n",
       "      <td>1</td>\n",
       "      <td>0</td>\n",
       "      <td>2008-08-15 12:44:00</td>\n",
       "      <td>43.07</td>\n",
       "      <td>43.07</td>\n",
       "      <td>43.07</td>\n",
       "      <td>43.07</td>\n",
       "      <td>232.759</td>\n",
       "      <td>1.0</td>\n",
       "      <td>0.0</td>\n",
       "      <td>0.0</td>\n",
       "    </tr>\n",
       "    <tr>\n",
       "      <th>1</th>\n",
       "      <td>1</td>\n",
       "      <td>1</td>\n",
       "      <td>2008-08-15 16:00:00</td>\n",
       "      <td>43.07</td>\n",
       "      <td>43.07</td>\n",
       "      <td>43.07</td>\n",
       "      <td>43.07</td>\n",
       "      <td>116.379</td>\n",
       "      <td>1.0</td>\n",
       "      <td>0.0</td>\n",
       "      <td>0.0</td>\n",
       "    </tr>\n",
       "    <tr>\n",
       "      <th>2</th>\n",
       "      <td>1</td>\n",
       "      <td>2</td>\n",
       "      <td>2008-08-18 09:28:00</td>\n",
       "      <td>42.63</td>\n",
       "      <td>42.75</td>\n",
       "      <td>42.63</td>\n",
       "      <td>42.75</td>\n",
       "      <td>10143.600</td>\n",
       "      <td>1.0</td>\n",
       "      <td>0.0</td>\n",
       "      <td>0.0</td>\n",
       "    </tr>\n",
       "    <tr>\n",
       "      <th>3</th>\n",
       "      <td>1</td>\n",
       "      <td>3</td>\n",
       "      <td>2008-08-18 09:30:00</td>\n",
       "      <td>42.77</td>\n",
       "      <td>42.77</td>\n",
       "      <td>42.77</td>\n",
       "      <td>42.77</td>\n",
       "      <td>24439.700</td>\n",
       "      <td>1.0</td>\n",
       "      <td>0.0</td>\n",
       "      <td>0.0</td>\n",
       "    </tr>\n",
       "    <tr>\n",
       "      <th>4</th>\n",
       "      <td>1</td>\n",
       "      <td>4</td>\n",
       "      <td>2008-08-18 10:07:00</td>\n",
       "      <td>42.53</td>\n",
       "      <td>42.53</td>\n",
       "      <td>42.53</td>\n",
       "      <td>42.53</td>\n",
       "      <td>2327.590</td>\n",
       "      <td>1.0</td>\n",
       "      <td>0.0</td>\n",
       "      <td>0.0</td>\n",
       "    </tr>\n",
       "  </tbody>\n",
       "</table>\n",
       "</div>"
      ],
      "text/plain": [
       "   symbol_id  symbol_record_id            datetime   open   high    low  \\\n",
       "0          1                 0 2008-08-15 12:44:00  43.07  43.07  43.07   \n",
       "1          1                 1 2008-08-15 16:00:00  43.07  43.07  43.07   \n",
       "2          1                 2 2008-08-18 09:28:00  42.63  42.75  42.63   \n",
       "3          1                 3 2008-08-18 09:30:00  42.77  42.77  42.77   \n",
       "4          1                 4 2008-08-18 10:07:00  42.53  42.53  42.53   \n",
       "\n",
       "   close     volume  split_factor  earnings  dividends  \n",
       "0  43.07    232.759           1.0       0.0        0.0  \n",
       "1  43.07    116.379           1.0       0.0        0.0  \n",
       "2  42.75  10143.600           1.0       0.0        0.0  \n",
       "3  42.77  24439.700           1.0       0.0        0.0  \n",
       "4  42.53   2327.590           1.0       0.0        0.0  "
      ]
     },
     "execution_count": 5,
     "metadata": {},
     "output_type": "execute_result"
    }
   ],
   "source": [
    "keys = symbols_list\n",
    "values = list(range(1, len(symbols_list)+1))\n",
    "dictionary = dict(zip(keys, values))\n",
    "symbols_pandas_df.insert(0, 'symbol_id', np.array([dictionary[x] for x in symbols_pandas_df.symbol.values]))\n",
    "symbols_pandas_df_cudf = symbols_pandas_df.drop('symbol', axis=1)\n",
    "symbols_pandas_df_cudf.head()"
   ]
  },
  {
   "cell_type": "code",
   "execution_count": 6,
   "metadata": {},
   "outputs": [
    {
     "data": {
      "text/plain": [
       "symbol_id                    int64\n",
       "symbol_record_id             int64\n",
       "datetime            datetime64[ns]\n",
       "open                       float64\n",
       "high                       float64\n",
       "low                        float64\n",
       "close                      float64\n",
       "volume                     float64\n",
       "split_factor               float64\n",
       "earnings                   float64\n",
       "dividends                  float64\n",
       "dtype: object"
      ]
     },
     "execution_count": 6,
     "metadata": {},
     "output_type": "execute_result"
    }
   ],
   "source": [
    "symbols_pandas_df_cudf.dtypes"
   ]
  },
  {
   "cell_type": "code",
   "execution_count": 6,
   "metadata": {},
   "outputs": [
    {
     "name": "stdout",
     "output_type": "stream",
     "text": [
      "   symbol_id symbol_record_id                datetime  open  high   low close ... dividends\n",
      " 0         1                0 2008-08-15T12:44:00.000 43.07 43.07 43.07 43.07 ...       0.0\n",
      " 1         1                1 2008-08-15T16:00:00.000 43.07 43.07 43.07 43.07 ...       0.0\n",
      " 2         1                2 2008-08-18T09:28:00.000 42.63 42.75 42.63 42.75 ...       0.0\n",
      " 3         1                3 2008-08-18T09:30:00.000 42.77 42.77 42.77 42.77 ...       0.0\n",
      " 4         1                4 2008-08-18T10:07:00.000 42.53 42.53 42.53 42.53 ...       0.0\n",
      " 5         1                5 2008-08-18T10:43:00.000  42.4  42.4  42.4  42.4 ...       0.0\n",
      " 6         1                6 2008-08-18T10:53:00.000  42.4  42.4  42.4  42.4 ...       0.0\n",
      " 7         1                7 2008-08-18T12:04:00.000 42.24 42.24 42.23 42.23 ...       0.0\n",
      " 8         1                8 2008-08-18T12:44:00.000  42.1  42.1  42.1  42.1 ...       0.0\n",
      " 9         1                9 2008-08-18T16:00:00.000  42.1  42.1  42.1  42.1 ...       0.0\n",
      "[50470560 more rows]\n",
      "[3 more columns]\n"
     ]
    }
   ],
   "source": [
    "symbols_gdf = cudf.DataFrame.from_pandas(symbols_pandas_df_cudf)\n",
    "del(symbols_pandas_df_cudf)\n",
    "print(symbols_gdf)"
   ]
  },
  {
   "cell_type": "markdown",
   "metadata": {},
   "source": [
    "### 2.Perf Tests"
   ]
  },
  {
   "cell_type": "markdown",
   "metadata": {},
   "source": [
    "#### 2.1 Descriptive statistics"
   ]
  },
  {
   "cell_type": "code",
   "execution_count": 7,
   "metadata": {},
   "outputs": [
    {
     "name": "stdout",
     "output_type": "stream",
     "text": [
      "Trading volume stats: mean of 11881.699675937818, variance of 10852793799.4029\n",
      "Trading volume stats: mean of 11881.699675937818, variance of 10852793799.4029\n",
      "Trading volume stats: mean of 11881.699675937818, variance of 10852793799.4029\n",
      "8.6 ms ± 185 µs per loop (mean ± std. dev. of 3 runs, 1 loop each)\n"
     ]
    }
   ],
   "source": [
    "%%timeit -n1 -r3\n",
    "print('Trading volume stats: mean of {}, variance of {}'.format(symbols_gdf['volume'].mean(), symbols_gdf['volume'].var()))"
   ]
  },
  {
   "cell_type": "markdown",
   "metadata": {},
   "source": [
    "#### 2.2 Sorting"
   ]
  },
  {
   "cell_type": "code",
   "execution_count": 33,
   "metadata": {},
   "outputs": [
    {
     "name": "stdout",
     "output_type": "stream",
     "text": [
      "  symbol_id                datetime      volume\n",
      "28629282        41 2008-11-21T16:00:00.000 116022000.0\n",
      "  symbol_id                datetime      volume\n",
      "28629282        41 2008-11-21T16:00:00.000 116022000.0\n",
      "  symbol_id                datetime      volume\n",
      "28629282        41 2008-11-21T16:00:00.000 116022000.0\n",
      "375 ms ± 2.83 ms per loop (mean ± std. dev. of 3 runs, 1 loop each)\n"
     ]
    }
   ],
   "source": [
    "%%timeit -n1 -r3\n",
    "print(symbols_gdf[['symbol_id', 'datetime', 'volume']].sort_values(by='volume', ascending=False).head(1))"
   ]
  },
  {
   "cell_type": "markdown",
   "metadata": {},
   "source": [
    "#### 2.3 Mixed analytics (math ops + sorting) [finding the top per-minute return]:"
   ]
  },
  {
   "cell_type": "code",
   "execution_count": 39,
   "metadata": {},
   "outputs": [
    {
     "name": "stdout",
     "output_type": "stream",
     "text": [
      "  symbol_id                datetime             return\n",
      "33060823        46 2010-05-06T17:23:00.000 22.580645161290334\n",
      "  symbol_id                datetime             return\n",
      "33060823        46 2010-05-06T17:23:00.000 22.580645161290334\n",
      "  symbol_id                datetime             return\n",
      "33060823        46 2010-05-06T17:23:00.000 22.580645161290334\n",
      "314 ms ± 4.05 ms per loop (mean ± std. dev. of 3 runs, 1 loop each)\n"
     ]
    }
   ],
   "source": [
    "%%timeit -n1 -r3\n",
    "symbols_gdf['return'] = 100*(symbols_gdf['close']-symbols_gdf['open'])/symbols_gdf['open']\n",
    "print(symbols_gdf[['symbol_id', 'datetime', 'return']].sort_values(by='return', ascending=False).head(1))"
   ]
  },
  {
   "cell_type": "markdown",
   "metadata": {},
   "source": [
    "## License"
   ]
  },
  {
   "cell_type": "markdown",
   "metadata": {},
   "source": [
    "Copyright (c) 2019, PatternedScience Inc.\n",
    "\n",
    "This code was originally run on the [UniAnalytica](https://www.unianalytica.com) platform, is published by PatternedScience Inc. on [GitHub](https://github.com/patternedscience/GPU-Analytics-Perf-Tests) and is licensed under the terms of Apache License 2.0; a copy of the license is available in the GitHub repository."
   ]
  }
 ],
 "metadata": {
  "kernelspec": {
   "display_name": "Python [conda env:gpu]",
   "language": "python",
   "name": "conda-env-gpu-py"
  },
  "language_info": {
   "codemirror_mode": {
    "name": "ipython",
    "version": 3
   },
   "file_extension": ".py",
   "mimetype": "text/x-python",
   "name": "python",
   "nbconvert_exporter": "python",
   "pygments_lexer": "ipython3",
   "version": "3.6.8"
  }
 },
 "nbformat": 4,
 "nbformat_minor": 2
}
