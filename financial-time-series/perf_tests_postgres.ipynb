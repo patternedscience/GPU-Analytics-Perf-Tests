{
 "cells": [
  {
   "cell_type": "markdown",
   "metadata": {},
   "source": [
    "## Postgres perf tests\n",
    "### Querying the financial time-series (per-minute ETFs) data from a table"
   ]
  },
  {
   "cell_type": "code",
   "execution_count": 44,
   "metadata": {},
   "outputs": [],
   "source": [
    "import sys\n",
    "import os\n",
    "import csv\n",
    "import psycopg2\n",
    "import pandas as pd\n",
    "import numpy as np\n",
    "from datetime import datetime\n",
    "import pytz\n",
    "import time"
   ]
  },
  {
   "cell_type": "code",
   "execution_count": 45,
   "metadata": {},
   "outputs": [],
   "source": [
    "try:\n",
    "    conn = psycopg2.connect(dbname='tests', user='hitchhiker', host='localhost', password='freeride', port='9478')\n",
    "except:\n",
    "    print('I am unable to connect to the database')\n",
    "    \n",
    "cur = conn.cursor()"
   ]
  },
  {
   "cell_type": "markdown",
   "metadata": {},
   "source": [
    "### Descriptive statistics"
   ]
  },
  {
   "cell_type": "code",
   "execution_count": 9,
   "metadata": {},
   "outputs": [
    {
     "name": "stdout",
     "output_type": "stream",
     "text": [
      "(11881.6996761872, 10852793799.2462)\n",
      "(11881.6996761872, 10852793799.2328)\n",
      "(11881.6996761872, 10852793799.233)\n",
      "3.04 s ± 3.07 ms per loop (mean ± std. dev. of 3 runs, 1 loop each)\n"
     ]
    }
   ],
   "source": [
    "%%timeit -n1 -r3\n",
    "cur.execute(\"SELECT  avg(volume), variance(volume) FROM public.symbols_minute;\")\n",
    "print(cur.fetchall()[0])"
   ]
  },
  {
   "cell_type": "markdown",
   "metadata": {},
   "source": [
    "### Sorting"
   ]
  },
  {
   "cell_type": "code",
   "execution_count": 18,
   "metadata": {},
   "outputs": [
    {
     "name": "stdout",
     "output_type": "stream",
     "text": [
      "(41, datetime.datetime(2008, 11, 21, 16, 0), 116022000.0)\n",
      "(41, datetime.datetime(2008, 11, 21, 16, 0), 116022000.0)\n",
      "(41, datetime.datetime(2008, 11, 21, 16, 0), 116022000.0)\n",
      "11.3 s ± 16.9 ms per loop (mean ± std. dev. of 3 runs, 1 loop each)\n"
     ]
    }
   ],
   "source": [
    "%%timeit -n1 -r3\n",
    "sqlQuery='''\n",
    "SELECT symbol_id, datetime, volume\n",
    "FROM public.symbols_minute\n",
    "ORDER BY volume DESC\n",
    "LIMIT 1;\n",
    "'''\n",
    "cur.execute(sqlQuery)\n",
    "print(cur.fetchall()[0])"
   ]
  },
  {
   "cell_type": "markdown",
   "metadata": {},
   "source": [
    "### Mixed analytics (math ops + sorting):\n",
    "#### Finding the top per-minute return"
   ]
  },
  {
   "cell_type": "code",
   "execution_count": 46,
   "metadata": {},
   "outputs": [
    {
     "name": "stdout",
     "output_type": "stream",
     "text": [
      "(46, datetime.datetime(2010, 5, 6, 17, 23), 22.5806540724312)\n",
      "(46, datetime.datetime(2010, 5, 6, 17, 23), 22.5806540724312)\n",
      "(46, datetime.datetime(2010, 5, 6, 17, 23), 22.5806540724312)\n",
      "13.1 s ± 7.66 ms per loop (mean ± std. dev. of 3 runs, 1 loop each)\n"
     ]
    }
   ],
   "source": [
    "%%timeit -n1 -r3\n",
    "sqlQuery='''\n",
    "SELECT *\n",
    "FROM\n",
    "(SELECT\n",
    "symbol_id, datetime,\n",
    "100*(close - open)/open AS return\n",
    "FROM public.symbols_minute) t\n",
    "ORDER BY return DESC\n",
    "LIMIT 1\n",
    ";\n",
    "'''\n",
    "cur.execute(sqlQuery)\n",
    "print(cur.fetchall()[0])"
   ]
  },
  {
   "cell_type": "markdown",
   "metadata": {},
   "source": [
    "## License"
   ]
  },
  {
   "cell_type": "markdown",
   "metadata": {},
   "source": [
    "Copyright (c) 2019, PatternedScience Inc.\n",
    "\n",
    "This code was originally run on the [UniAnalytica](https://www.unianalytica.com) platform, is published by PatternedScience Inc. on [GitHub](https://github.com/patternedscience/GPU-Analytics-Perf-Tests) and is licensed under the terms of Apache License 2.0; a copy of the license is available in the GitHub repository."
   ]
  }
 ],
 "metadata": {
  "kernelspec": {
   "display_name": "Python [conda env:cpu_df]",
   "language": "python",
   "name": "conda-env-cpu_df-py"
  },
  "language_info": {
   "codemirror_mode": {
    "name": "ipython",
    "version": 3
   },
   "file_extension": ".py",
   "mimetype": "text/x-python",
   "name": "python",
   "nbconvert_exporter": "python",
   "pygments_lexer": "ipython3",
   "version": "3.6.8"
  }
 },
 "nbformat": 4,
 "nbformat_minor": 2
}
